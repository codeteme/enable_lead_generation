{
 "cells": [
  {
   "cell_type": "markdown",
   "metadata": {},
   "source": [
    "====================================================\n",
    "\n",
    "* Shape before removing duplicates: (3317, 2)\n",
    "* Shape after removing duplicates: (2098, 2)\n",
    "\n",
    "====================================================\n",
    "\n",
    "\n",
    "* Shape before removing non-food tags: (2098, 2)\n",
    "* Shape after removing non-food tags: (1856, 2)\n",
    "\n",
    "====================================================\n",
    "\n",
    "\n",
    "\n",
    "* Shape before removing fine-dining from Zomato: (1856, 2)\n",
    "* Shape after removing fine-dining from Zomato: (1833, 3)\n",
    "\n",
    "====================================================\n",
    "\n",
    "\n",
    "* Shape before removing fine-dining from Snoonu: (1833, 2)\n",
    "* Shape after removing fine-dining from Snoonu: (1820, 3)\n",
    "\n",
    "====================================================\n",
    "\n"
   ]
  },
  {
   "cell_type": "code",
   "execution_count": 2,
   "metadata": {},
   "outputs": [],
   "source": [
    "import pandas as pd\n",
    "\n",
    "talabat_food = pd.read_csv(\"../data/processed/talabat_food.csv\")\n",
    "mybookqatar = pd.read_csv(\"../data/raw/mybookqatar.csv\")\n",
    "zomato = pd.read_csv(\"../data/processed/zomato_fine_dining.csv\")\n",
    "snoonu = pd.read_csv(\"../data/processed/snoonu_fine_dining.csv\")"
   ]
  },
  {
   "cell_type": "code",
   "execution_count": 3,
   "metadata": {},
   "outputs": [],
   "source": [
    "# Make all the names lowercase in all the dataframes\n",
    "talabat_food[\"Name\"] = talabat_food[\"Name\"].str.lower()\n",
    "mybookqatar[\"Name\"] = mybookqatar[\"Name\"].str.lower()\n",
    "zomato[\"Name\"] = zomato[\"Name\"].str.lower()\n",
    "snoonu[\"Name\"] = snoonu[\"Name\"].str.lower()"
   ]
  },
  {
   "cell_type": "code",
   "execution_count": 4,
   "metadata": {},
   "outputs": [],
   "source": [
    "# Change the name of the first column to \"Talabat Restaurant Number\" for consistency\n",
    "talabat_food.rename(columns={talabat_food.columns[0]: \"Talabat Restaurant Number\"}, inplace=True)"
   ]
  },
  {
   "cell_type": "code",
   "execution_count": 5,
   "metadata": {},
   "outputs": [
    {
     "name": "stdout",
     "output_type": "stream",
     "text": [
      "talabat_food: (1856, 3) mybookqatar: (248, 1) zomato: (70, 1) snoonu: (64, 2)\n"
     ]
    }
   ],
   "source": [
    "print(\"talabat_food:\", talabat_food.shape, \"mybookqatar:\", mybookqatar.shape, \"zomato:\", zomato.shape, \"snoonu:\", snoonu.shape)"
   ]
  },
  {
   "cell_type": "markdown",
   "metadata": {},
   "source": [
    "The restaurant names on Talabat and Zomato are often written differently. For example, Al Baharat vs. Baharat.\n",
    "We have went through the list of Zomato restaurants manually and look if they are in Talabat. "
   ]
  },
  {
   "cell_type": "code",
   "execution_count": 6,
   "metadata": {},
   "outputs": [
    {
     "data": {
      "text/plain": [
       "(1833, 3)"
      ]
     },
     "execution_count": 6,
     "metadata": {},
     "output_type": "execute_result"
    }
   ],
   "source": [
    "talabat_zomato_fine_dining = [208, 918, 1627, 1507, 788, 1291, 2261, 1697, 2632, 1412, 2941, 734, 1318, 1590, 1238, 1305, 161, 641, 379, 439, 245, 820, 3031]\n",
    "# Remove the restaurants that are in the talabat_zomato_fine_dining list from the talabat_food dataframe \n",
    "talabat_food = talabat_food[~talabat_food[\"Talabat Restaurant Number\"].isin(talabat_zomato_fine_dining)]\n",
    "talabat_food.shape"
   ]
  },
  {
   "cell_type": "code",
   "execution_count": 7,
   "metadata": {},
   "outputs": [
    {
     "data": {
      "text/plain": [
       "(1820, 3)"
      ]
     },
     "execution_count": 7,
     "metadata": {},
     "output_type": "execute_result"
    }
   ],
   "source": [
    "# From talabat_food, drop restaurants that are in snoonu\n",
    "talabat_food = talabat_food[~talabat_food[\"Name\"].isin(snoonu[\"Name\"])]\n",
    "talabat_food.shape"
   ]
  },
  {
   "cell_type": "code",
   "execution_count": 8,
   "metadata": {},
   "outputs": [],
   "source": [
    "talabat_food.to_csv(\"../data/processed/no_fine_dining.csv\")\n",
    "talabat_food.to_excel(\"../data/processed/no_fine_dining.xlsx\")"
   ]
  },
  {
   "cell_type": "code",
   "execution_count": null,
   "metadata": {},
   "outputs": [],
   "source": []
  }
 ],
 "metadata": {
  "kernelspec": {
   "display_name": "Python 3.9.2 ('venv': venv)",
   "language": "python",
   "name": "python3"
  },
  "language_info": {
   "codemirror_mode": {
    "name": "ipython",
    "version": 3
   },
   "file_extension": ".py",
   "mimetype": "text/x-python",
   "name": "python",
   "nbconvert_exporter": "python",
   "pygments_lexer": "ipython3",
   "version": "3.9.2"
  },
  "orig_nbformat": 4,
  "vscode": {
   "interpreter": {
    "hash": "1a2ab506a66445fa448c4adab569b2244ff3c9e875fcff9ad293f8f578b7df4f"
   }
  }
 },
 "nbformat": 4,
 "nbformat_minor": 2
}
